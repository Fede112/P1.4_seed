{
 "cells": [
  {
   "cell_type": "code",
   "execution_count": 10,
   "metadata": {},
   "outputs": [],
   "source": [
    "import numpy as np"
   ]
  },
  {
   "cell_type": "code",
   "execution_count": 11,
   "metadata": {},
   "outputs": [],
   "source": [
    "# A=np.zeros([10,10])"
   ]
  },
  {
   "cell_type": "code",
   "execution_count": 21,
   "metadata": {},
   "outputs": [],
   "source": [
    "# c = np.arange(11,20)\n",
    "# a = np.arange(1,11)\n",
    "# e = np.arange(102,111)\n",
    "rows=3\n",
    "cols=3\n",
    "ones = np.ones(rows*cols)\n",
    "\n",
    "A = np.diag(4*ones) + np.diag(-1*ones[:-1],-1) + np.diag(-1*ones[:-1],1) + np.diag(-1*ones[:-cols],-cols) + np.diag(-1*ones[:-cols],cols)\n",
    "\n",
    "\n",
    "# A = np.diag(c,1) + np.diag(a) + np.diag(e,-1)\n",
    "\n",
    "# B = np.diag(4) + np.diag()"
   ]
  },
  {
   "cell_type": "code",
   "execution_count": 22,
   "metadata": {},
   "outputs": [
    {
     "data": {
      "text/plain": [
       "array([[ 4., -1.,  0., -1.,  0.,  0.,  0.,  0.,  0.],\n",
       "       [-1.,  4., -1.,  0., -1.,  0.,  0.,  0.,  0.],\n",
       "       [ 0., -1.,  4., -1.,  0., -1.,  0.,  0.,  0.],\n",
       "       [-1.,  0., -1.,  4., -1.,  0., -1.,  0.,  0.],\n",
       "       [ 0., -1.,  0., -1.,  4., -1.,  0., -1.,  0.],\n",
       "       [ 0.,  0., -1.,  0., -1.,  4., -1.,  0., -1.],\n",
       "       [ 0.,  0.,  0., -1.,  0., -1.,  4., -1.,  0.],\n",
       "       [ 0.,  0.,  0.,  0., -1.,  0., -1.,  4., -1.],\n",
       "       [ 0.,  0.,  0.,  0.,  0., -1.,  0., -1.,  4.]])"
      ]
     },
     "execution_count": 22,
     "metadata": {},
     "output_type": "execute_result"
    }
   ],
   "source": [
    "A"
   ]
  },
  {
   "cell_type": "code",
   "execution_count": 90,
   "metadata": {},
   "outputs": [],
   "source": [
    "b = np.ones([10])"
   ]
  },
  {
   "cell_type": "code",
   "execution_count": 91,
   "metadata": {},
   "outputs": [
    {
     "data": {
      "text/plain": [
       "array([1., 1., 1., 1., 1., 1., 1., 1., 1., 1.])"
      ]
     },
     "execution_count": 91,
     "metadata": {},
     "output_type": "execute_result"
    }
   ],
   "source": [
    "b"
   ]
  },
  {
   "cell_type": "code",
   "execution_count": 116,
   "metadata": {},
   "outputs": [],
   "source": [
    "alpha=np.zeros(len(A))\n",
    "beta=np.zeros(len(A)-1)\n",
    "y=np.zeros(len(A))\n",
    "x=np.zeros(len(A))\n",
    "alpha[0]=a[0]\n",
    "y[0]=b[0]\n",
    "for i in range(len(A)-1):\n",
    "    beta[i] = e[i]/alpha[i]\n",
    "    alpha[i+1]=a[i+1]-beta[i]*c[i]\n",
    "    y[i+1] = b[i+1] - beta[i]*y[i]\n",
    "    "
   ]
  },
  {
   "cell_type": "code",
   "execution_count": 117,
   "metadata": {},
   "outputs": [
    {
     "data": {
      "text/plain": [
       "array([ 1.02000000e+02, -9.19642857e-02,  2.53437772e+01, -3.22611267e-01,\n",
       "        1.11384813e+01, -6.64277673e-01,  6.12646287e+00, -1.13364689e+00,\n",
       "        3.74077846e+00])"
      ]
     },
     "execution_count": 117,
     "metadata": {},
     "output_type": "execute_result"
    }
   ],
   "source": [
    "alpha\n",
    "beta"
   ]
  },
  {
   "cell_type": "code",
   "execution_count": 118,
   "metadata": {},
   "outputs": [],
   "source": [
    "x[len(A)-1]=y[len(A)-1]/alpha[len(A)-1]\n",
    "for i in range(len(A)-1)[::-1]:\n",
    "    x[i] = y[i] - c[i]*x[i+1]\n"
   ]
  },
  {
   "cell_type": "code",
   "execution_count": 119,
   "metadata": {},
   "outputs": [
    {
     "data": {
      "text/plain": [
       "array([-1.33110395e+12,  1.21009450e+11, -1.00841208e+10,  7.75701601e+08,\n",
       "       -5.54072422e+07,  3.69382075e+06, -2.30911832e+05,  1.35530762e+04,\n",
       "       -5.79467860e+02,  2.16866089e+02])"
      ]
     },
     "execution_count": 119,
     "metadata": {},
     "output_type": "execute_result"
    }
   ],
   "source": [
    "x"
   ]
  },
  {
   "cell_type": "code",
   "execution_count": 120,
   "metadata": {},
   "outputs": [
    {
     "data": {
      "text/plain": [
       "array([ 1.00000000e+00, -1.01000000e+02, -8.28839286e+00,  2.11059182e+02,\n",
       "        6.90900702e+01, -7.68558451e+02, -5.09536219e+02,  3.12265473e+03,\n",
       "        3.54098783e+03, -1.32450510e+04])"
      ]
     },
     "execution_count": 120,
     "metadata": {},
     "output_type": "execute_result"
    }
   ],
   "source": [
    "y"
   ]
  },
  {
   "cell_type": "code",
   "execution_count": 121,
   "metadata": {},
   "outputs": [
    {
     "data": {
      "text/plain": [
       "array([ 1.00000000e+00, -1.35651593e+14,  1.24438051e+13, -1.04642146e+12,\n",
       "        8.12270392e+10, -5.85469933e+09,  3.93852840e+08, -2.48404836e+07,\n",
       "        1.47619055e+06, -6.15728037e+04])"
      ]
     },
     "execution_count": 121,
     "metadata": {},
     "output_type": "execute_result"
    }
   ],
   "source": [
    "np.matmul(A,x)"
   ]
  },
  {
   "cell_type": "code",
   "execution_count": null,
   "metadata": {},
   "outputs": [],
   "source": []
  }
 ],
 "metadata": {
  "kernelspec": {
   "display_name": "Python 3",
   "language": "python",
   "name": "python3"
  },
  "language_info": {
   "codemirror_mode": {
    "name": "ipython",
    "version": 3
   },
   "file_extension": ".py",
   "mimetype": "text/x-python",
   "name": "python",
   "nbconvert_exporter": "python",
   "pygments_lexer": "ipython3",
   "version": "3.6.7"
  }
 },
 "nbformat": 4,
 "nbformat_minor": 2
}
