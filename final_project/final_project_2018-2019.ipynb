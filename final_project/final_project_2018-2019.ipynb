{
 "cells": [
  {
   "cell_type": "markdown",
   "metadata": {},
   "source": [
    "# Final project, Numerical Analysis 2018-2019\n",
    "\n",
    "\n",
    "## Project description\n",
    "\n",
    "In this project, we would like to compare the performance of some embarassingly simple algorithms to solve a classification problem based on the MNIST database. \n",
    "\n",
    "The abstract aim of the program is to write a function:\n",
    "\n",
    "```\n",
    "result = classify(image)\n",
    "```\n",
    "\n",
    "that takes as input a small grey scale image of a hand-written digit (from the MNIST database), and returns the digit corresponding to the content of the image.\n",
    "\n",
    "An example of the images we'll be working on is the following:\n",
    "\n",
    "![mnist examples](https://m-alcu.github.io/assets/mnist.png)\n",
    "\n",
    "Some background on the MNIST database (from wikipedia):\n",
    "\n",
    "\n",
    "## MNIST database\n",
    "\n",
    "*From Wikipedia, the free encyclopedia*\n",
    "\n",
    "The MNIST database (Modified National Institute of Standards and Technology database) is a large database of handwritten digits that is commonly used for training various image processing systems. The database is also widely used for training and testing in the field of machine learning. It was created by \"re-mixing\" the samples from NIST's original datasets. The creators felt that since NIST's training dataset was taken from American Census Bureau employees, while the testing dataset was taken from American high school students, it was not well-suited for machine learning experiments. Furthermore, the black and white images from NIST were normalized to fit into a 28x28 pixel bounding box and anti-aliased, which introduced grayscale levels.\n",
    "\n",
    "## MNIST sample images.\n",
    "\n",
    "The MNIST database contains 60,000 training images and 10,000 testing images. Half of the training set and half of the test set were taken from NIST's training dataset, while the other half of the training set and the other half of the test set were taken from NIST's testing dataset. There have been a number of scientific papers on attempts to achieve the lowest error rate; one paper, using a hierarchical system of convolutional neural networks, manages to get an error rate on the MNIST database of 0.23%. The original creators of the database keep a list of some of the methods tested on it. In their original paper, they use a support vector machine to get an error rate of 0.8%. An extended dataset similar to MNIST called EMNIST has been published in 2017, which contains 240,000 training images, and 40,000 testing images of handwritten digits and characters.\n",
    "\n",
    "## Algorithm\n",
    "\n",
    "We start by defining the distance between two images. Ideally, a distance function between two images is zero when the images are the same, and greater than zero when the images are different. \n",
    "\n",
    "The bigger the distance, the more different the images should be. Ideally, the distance between an image of the number `9` should be closer to an image of the number `8` than to an image of the number `1` (the digits `9` and `8`, as images, differ by the fact that the first has one closed loop, while the second has two closed loops, while the digit `1` is mostly a straight line). Two different images representing the same number should be even closer (i.e., the distance function should return a \"small\" number).\n",
    "\n",
    "Given a distance and a training set of images for which we know everything, the simplest algorithm we can think of to classify an image `z`, is the following: given a set of train images (`x_train`) for which we know the digit they represent (`y_train`), measure the distance between `z` and all images in `x_train`, and classify the image `z` to represent the same digit of the image that is closest to `z` in `x_train`:\n",
    "\n",
    "Parameters of the algorithm:\n",
    "\n",
    "- `x_train`\n",
    "- `y_train`\n",
    "- a distance function `dist`  \n",
    "\n",
    "Input of the function\n",
    "\n",
    "- `z`\n",
    "\n",
    "Output of the function\n",
    "\n",
    "- `digit`\n",
    "\n",
    "where \n",
    "\n",
    "```\n",
    "def classify(z):\n",
    "    all_distances = array([dist(x, z) for x in x_train])\n",
    "    digit = y_train[argmin(all_distances)]\n",
    "    return digit\n",
    "```\n",
    "\n",
    "We will experiment with different distances, and we will try to improve the algorithm above in a step by step fashon.\n",
    "\n",
    "## Data description\n",
    "\n",
    "Each image in the MNIST dataset represents a hand written digit, in the form of a matrix of `28x28` values between zero and one, representing gray scale values (zero = white, one = black).\n",
    "\n",
    "We use an array of `60.000x28x28` floating point values to collect all training images, and an array of `60.000` digits containing the (correct) value of the training digits (between 0 and 9 inclusive).\n",
    "\n",
    "The testing images are instead collected into two arrays of size `10.000x28x28` and `10.0000` respectively."
   ]
  },
  {
   "cell_type": "code",
   "execution_count": 1,
   "metadata": {},
   "outputs": [
    {
     "name": "stdout",
     "output_type": "stream",
     "text": [
      "Populating the interactive namespace from numpy and matplotlib\n"
     ]
    },
    {
     "name": "stderr",
     "output_type": "stream",
     "text": [
      "Using TensorFlow backend.\n"
     ]
    },
    {
     "name": "stdout",
     "output_type": "stream",
     "text": [
      "Training set:  (60000, 28, 28)\n",
      "(60000, 28, 28) (60000,)\n",
      "(10000, 28, 28) (10000,)\n"
     ]
    }
   ],
   "source": [
    "%pylab inline\n",
    "\n",
    "# input image dimensions\n",
    "img_rows, img_cols = 28, 28\n",
    "\n",
    "# Uncomment the following lines if you have keras installed. Otherwise you can \n",
    "# use the file I uploaded: mnist.npz\n",
    "import keras\n",
    "from keras.datasets import mnist\n",
    "from keras import backend as K\n",
    "\n",
    "# the data, split between train and test sets\n",
    "(x_train, y_train), (x_test, y_test) = mnist.load_data()\n",
    "\n",
    "print('Training set: ', x_train.shape)\n",
    "\n",
    "if K.image_data_format() == 'channels_first':\n",
    "    x_train = x_train.reshape(x_train.shape[0], 1, img_rows, img_cols) #\n",
    "    x_test = x_test.reshape(x_test.shape[0], 1, img_rows, img_cols)\n",
    "    input_shape = (img_rows, img_cols)\n",
    "else:\n",
    "    x_train = x_train.reshape(x_train.shape[0], img_rows, img_cols)\n",
    "    x_test = x_test.reshape(x_test.shape[0], img_rows, img_cols)\n",
    "    input_shape = (img_rows, img_cols)\n",
    "\n",
    "x_train = x_train.astype('float32')\n",
    "x_test = x_test.astype('float32')\n",
    "x_train /= 255 #Normalization factor\n",
    "x_test /= 255\n",
    "\n",
    "# np.savez_compressed('mnist.npz', x_train, y_train, x_test, y_test)\n",
    "\n",
    "# arc = load('mnist.npz')\n",
    "# x_train = arc['arr_0']\n",
    "# y_train = arc['arr_1']\n",
    "# x_test  = arc['arr_2']\n",
    "# y_test  = arc['arr_3']\n",
    "\n",
    "print(x_train.shape, y_train.shape)\n",
    "print(x_test.shape, y_test.shape)"
   ]
  },
  {
   "cell_type": "code",
   "execution_count": 2,
   "metadata": {},
   "outputs": [],
   "source": [
    "# Define some decorators to measure time\n",
    "\n",
    "#adapted from Fluent Python and Alberto's Advance Programming Course\n",
    "import functools\n",
    "def args_to_string(*args,**kw):\n",
    "    arg_str = []\n",
    "    if args:\n",
    "        arg_str.append(','.join(str(arg) for arg in args))\n",
    "    if kw:\n",
    "        arg_str.append(', '.join(('{0}={1}'.format(k,v) for k,v in kw.items())))\n",
    "    return ','.join(a for a in arg_str)\n",
    "\n",
    "import time\n",
    "def time_this(func):\n",
    "    def decorated(*args,**kw):\n",
    "        t0 = time.perf_counter()\n",
    "        result = func(*args,**kw)\n",
    "        t1 = time.perf_counter()\n",
    "        name = func.__name__\n",
    "#         arg_str = args_to_string(*args,**kw)\n",
    "        #print('{0}({1}): [{2}]'.format(name, arg_str,t1-t0))\n",
    "        #print('{}({}): [{}]'.format(name, arg_str,t1-t0))\n",
    "#         print('%s(%s): [%0.8fs]' % (name, arg_str, t1-t0))\n",
    "        print('%s: [%0.8fs]' % (name, t1-t0))\n",
    "        return result\n",
    "    return decorated\n",
    "\n",
    "\n",
    "class Timer():\n",
    "    def __init__(self):\n",
    "        self._start = 0\n",
    "    def __enter__(self):\n",
    "        self._start = time.time()\n",
    "        return self\t\n",
    "\n",
    "    def __exit__(self, exc_type, exc_value, traceback):\n",
    "        print(\"Total time = \", time.time() - self._start) \n",
    "        return True\n"
   ]
  },
  {
   "cell_type": "markdown",
   "metadata": {},
   "source": [
    "# Plotting one image\n",
    "\n",
    "How do we plot the images? `pyplot`, which has been imported by the first line of the previous cell, contains a command called `imshow`, that can be used to plot images. \n",
    "\n",
    "In this case we know it is a greyscale image, with zero representing white and one representing black, so we use a colormap that goes from white to black, i.e., `gray_r` where `_r` stands for reversed. "
   ]
  },
  {
   "cell_type": "code",
   "execution_count": 3,
   "metadata": {},
   "outputs": [
    {
     "data": {
      "image/png": "[encoded data removed]",
      "text/plain": [
       "<Figure size 432x288 with 1 Axes>"
      ]
     },
     "metadata": {},
     "output_type": "display_data"
    }
   ],
   "source": [
    "# Show image number 15, and write in the title what digit it should correspond to\n",
    "N=15\n",
    "imshow(x_train[N], cmap='gray_r')\n",
    "_ = title('Hand written digit '+str(y_train[N]))"
   ]
  },
  {
   "cell_type": "markdown",
   "metadata": {},
   "source": [
    "**IF YOU DON'T HAVE ENOUGH COMPUTATIONAL POWER, RUN THE EXERCISES ONLY UP TO WHAT IS SUSTAINABLE FOR YOUR PC**\n",
    "\n",
    "General guidelines:\n",
    "\n",
    "- Time all functions you construct, and try to make them run as fast as possible by precomputing anything that can be precomputed\n",
    "- Extra points are gained if you reduce the complexity of the given algorithms in any possible way, for example by exploiting linearity, etc.\n",
    "- If something takes too long to execute, make sure you time it on a smaller set of input data, and give estimates of how long it would take to run the full thing (without actually running it). Plot only the results you manage to run on your PC."
   ]
  },
  {
   "cell_type": "markdown",
   "metadata": {},
   "source": [
    "# Assignment 1\n",
    "\n",
    "Implement the following distance functions\n",
    "\n",
    "- d_infty $$ d_{\\infty}(a,b) := \\max_{i,j} |b_{ij}-a_{ij}|$$\n",
    "- d_one $$ d_1(a,b) := \\sum_{i,j} |b_{ij}-a_{ij}|$$\n",
    "- d_two $$ d_2(a,b) := \\sqrt{\\sum_{i,j} |b_{ij}-a_{ij}|^2}$$\n",
    "\n",
    "that take two `(28,28)` images in input, and return a non-negative number."
   ]
  },
  {
   "cell_type": "code",
   "execution_count": 4,
   "metadata": {},
   "outputs": [
    {
     "name": "stdout",
     "output_type": "stream",
     "text": [
      "1.0\n",
      "115.70979\n",
      "9.361222\n",
      "----------\n",
      "0.99607843\n",
      "133.4902\n",
      "10.567111\n"
     ]
    }
   ],
   "source": [
    "def d_infty(A, B):\n",
    "    return np.max( abs(B-A) )\n",
    "\n",
    "def d_1(A,B):\n",
    "    return np.sum( (np.abs(A-B)) )\n",
    "\n",
    "def d_2(A,B):\n",
    "    return np.sqrt( np.sum( np.square(A-B) ) )\n",
    "    \n",
    "# we print this to have some numbers as reference\n",
    "print(d_infty(x_train[0], x_train[1]))\n",
    "print(d_1(x_train[0], x_train[1]))\n",
    "print(d_2(x_train[0], x_train[1]))\n",
    "\n",
    "print(\"----------\")\n",
    "\n",
    "print(d_infty(x_train[10], x_train[11]))\n",
    "print(d_1(x_train[10], x_train[11]))\n",
    "print(d_2(x_train[10], x_train[11]))"
   ]
  },
  {
   "cell_type": "markdown",
   "metadata": {},
   "source": [
    "\n",
    "# Assignment 2\n",
    "\n",
    "Write a function that, given a number `N`, and a distance function `dist`, computes the distance matrix D of shape `(N,N)` between the first `N` entries of `x_train`:\n",
    "\n",
    "```\n",
    "D[i,j] = dist(x_train[i], x_train[j])\n",
    "```\n",
    "\n",
    "performing the **minimum** number of operations (i.e., avoid computing a distance if it has already been computed before, i.e., keep in mind that dist(a,b) = dist(b,a)).\n"
   ]
  },
  {
   "cell_type": "markdown",
   "metadata": {},
   "source": [
    "## Assignment 2: solution\n",
    "\n",
    "For this assignment we implemented two solutions (`dist_1(...)` and `dist(...))2`) and test its performance using the decorator `@time_this`.\n",
    "\n",
    "**dist_1** is the naive approach, which calculates every element of the symmetric matrix but exploits the pythonic way of writing things.\n",
    "\n",
    "**dist_2** avoids repetition taking advantage of the symmetry of the matrix.\n",
    "\n",
    "We use the latter, adding an extra feature: it can calculate a distance matrix expanding the results obtained from a previous and smaller matrix (images should be arrange in the same order as before). \n",
    "\n"
   ]
  },
  {
   "cell_type": "code",
   "execution_count": 5,
   "metadata": {
    "scrolled": true
   },
   "outputs": [
    {
     "name": "stdout",
     "output_type": "stream",
     "text": [
      "[[ 0.          9.36122227 10.87509441]\n",
      " [ 9.36122227  0.         11.36836433]\n",
      " [10.87509441 11.36836433  0.        ]]\n",
      "[[ 0.          9.36122227 10.87509441 10.01890182 10.48026371 10.12663651]\n",
      " [ 9.36122227  0.         11.36836433 10.849123   10.36724758 10.50189781]\n",
      " [10.87509441 11.36836433  0.         10.08471394 10.05302334 10.33014584]\n",
      " [10.01890182 10.849123   10.08471394  0.          9.36790848  9.90219402]\n",
      " [10.48026371 10.36724758 10.05302334  9.36790848  0.          8.98963451]\n",
      " [10.12663651 10.50189781 10.33014584  9.90219402  8.98963451  0.        ]]\n"
     ]
    }
   ],
   "source": [
    "# @time_this\n",
    "# def dist_1(metric, N, group):\n",
    "#     D = np.array([metric(i,j) for i in group[:N] for j in group[:N]])\n",
    "#     return D.reshape(N,N)\n",
    "\n",
    "\n",
    "# @time_this\n",
    "# def dist_2(metric, N, group):\n",
    "#     D=np.empty([N,N])\n",
    "#     for i in arange(N):\n",
    "#         for j in arange(i+1,N):\n",
    "#                 D[i,j] = metric(group[i],group[j])\n",
    "#                 D[j,i] = D[i,j]\n",
    "#     return D       \n",
    "\n",
    "# @time_this\n",
    "def dist(metric, N, group, prev_N = np.array([[]]), **kwargs):\n",
    "    # metric is a function pointer    \n",
    "    # we added **kwargs because some metric functions needs extra parameters\n",
    "    D=np.zeros([N,N])\n",
    "    \n",
    "    # if you want to use previous results you use prev_N\n",
    "    prev_row = 0\n",
    "    prev_col = 0\n",
    "    if prev_N.size > 0:\n",
    "        prev_row = prev_N.shape[0]\n",
    "        prev_col = prev_N.shape[1]\n",
    "        D[:prev_row, :prev_col]=np.copy(prev_N)\n",
    "            \n",
    "    \n",
    "    if bool(kwargs):\n",
    "        for i in range(prev_row):\n",
    "            D[i,i] = 0\n",
    "            for j in range(prev_col,N):\n",
    "                D[i,j] = metric(group[i],group[j], id_f1 =i, id_f2 = j, **kwargs)\n",
    "                D[j,i] = D[i,j]\n",
    "        for i in range(prev_row,N):\n",
    "            D[i,i] = 0\n",
    "            for j in range(i+1,N):\n",
    "                D[i,j] = metric(group[i],group[j], id_f1 =i, id_f2 = j, **kwargs)\n",
    "                D[j,i] = D[i,j]\n",
    "\n",
    "    else:\n",
    "        for i in range(prev_row):\n",
    "            D[i,i] = 0\n",
    "            for j in range(prev_col,N):\n",
    "                D[i,j] = metric(group[i],group[j])\n",
    "                D[j,i] = D[i,j]\n",
    "\n",
    "        for i in range(prev_row,N):\n",
    "            D[i,i] = 0\n",
    "            for j in range(i+1,N):\n",
    "                D[i,j] = metric(group[i],group[j])\n",
    "                D[j,i] = D[i,j]\n",
    "\n",
    "    \n",
    "    return D \n",
    "\n",
    "# Example:\n",
    "N = dist(d_2, 3, x_train)\n",
    "print(N)\n",
    "print(dist(d_2, 6, x_train, N))"
   ]
  },
  {
   "cell_type": "markdown",
   "metadata": {},
   "source": [
    "\n",
    "# Assignment 3\n",
    "\n",
    "Compute and plot the three distance matrices\n",
    "\n",
    "- Dinfty\n",
    "- D1\n",
    "- D2\n",
    "\n",
    "for the first 100 images of the training set, using the function `imshow` applied to the three matrices"
   ]
  },
  {
   "cell_type": "code",
   "execution_count": 6,
   "metadata": {},
   "outputs": [
    {
     "data": {
      "image/png": "[encoded data removed]",
      "text/plain": [
       "<Figure size 432x288 with 1 Axes>"
      ]
     },
     "metadata": {},
     "output_type": "display_data"
    },
    {
     "data": {
      "image/png": "[encoded data removed]",
      "text/plain": [
       "<Figure size 432x288 with 1 Axes>"
      ]
     },
     "metadata": {},
     "output_type": "display_data"
    },
    {
     "data": {
      "image/png": "[encoded data removed]",
      "text/plain": [
       "<Figure size 432x288 with 1 Axes>"
      ]
     },
     "metadata": {},
     "output_type": "display_data"
    }
   ],
   "source": [
    "N=100\n",
    "fig0 = plt.figure(frameon=False)\n",
    "im0 = plt.imshow(dist(d_infty, N, x_train), cmap='gray_r')\n",
    "_ = title('d_infty ')\n",
    "\n",
    "fig1 = plt.figure(frameon=False)\n",
    "im1 = plt.imshow(dist(d_1, N, x_train), cmap='gray_r')\n",
    "_ = title('d_1')\n",
    "\n",
    "fig2 = plt.figure(frameon=False)\n",
    "im2 = plt.imshow(dist(d_2, N, x_train), cmap='gray_r')\n",
    "_ = title('d_2')\n"
   ]
  },
  {
   "cell_type": "markdown",
   "metadata": {},
   "source": [
    "\n",
    "\n",
    "# Assignment 4\n",
    "\n",
    "Using only a distance matrix, apply the algorithm described above and compute the efficency of the algorithm, i.e., write a function that:\n",
    "\n",
    "Given a distance matrix with shape `(N,N)`, constructed on the first `N` samples of the `x_train` set, count the number of failures of the **leave one out** strategy, i.e., \n",
    "\n",
    "- set `error_counter` to zero\n",
    "\n",
    "- for every line `i` of the matrix:\n",
    "\n",
    "    - find the index `j` (different from `i`) for which `D[i,k] >= D[i,j]` for all `k` different from `i` and `j`.\n",
    "\n",
    "    - if `y_train[j]` is different from `y_train[i]`, increment by one `error_counter`\n",
    "\n",
    "- return the error: error_counter/N\n",
    "\n",
    "- apply the function above to the 3 different distance matrices you computed before\n"
   ]
  },
  {
   "cell_type": "markdown",
   "metadata": {},
   "source": [
    "## Assignment 4: solution\n",
    "\n",
    "We implemented efficiency using `np.argmin` per row. We replaced the diagonal `D[idx, idx] = D[idx, idx-1]` to avoid choosing its index as the minimum index. We measure its time and we concluded that it is not a time critical function thus further optimization is not requiered."
   ]
  },
  {
   "cell_type": "code",
   "execution_count": 7,
   "metadata": {},
   "outputs": [
    {
     "name": "stdout",
     "output_type": "stream",
     "text": [
      "0.4425\n",
      "0.15\n",
      "0.135\n"
     ]
    }
   ],
   "source": [
    "N = 400\n",
    "D_infty = dist(d_infty, N, x_train)\n",
    "D_1 = dist(d_1, N, x_train)\n",
    "D_2 = dist(d_2, N, x_train)\n",
    "\n",
    "# @time_this\n",
    "def efficiency(N, D, labels):\n",
    "    errors = 0\n",
    "    for idx in range(N):\n",
    "        # The diagonal value is the minimum by definition.\n",
    "        # In order to avoid finding this unwanted minimum we do the following trick \n",
    "        # (we also avoided an if statement)\n",
    "        D[idx, idx] = D[idx, idx-1] \n",
    "        min_indx = np.argmin(D[idx])\n",
    "        D[idx, idx] = 0\n",
    "\n",
    "        if not labels[idx] == labels[min_indx]: errors = errors + 1\n",
    "    return errors/N\n",
    "\n",
    "print(efficiency(N, D_infty, y_train))\n",
    "print(efficiency(N, D_1, y_train))\n",
    "print(efficiency(N, D_2, y_train))"
   ]
  },
  {
   "cell_type": "markdown",
   "metadata": {},
   "source": [
    "\n",
    "# Assignment 5\n",
    "\n",
    "Run the algorithm implemented above for N=100,200,400,800,1600 on the three different distances, and plot the three error rate as a function of N (i.e., compute the distance matrix, and compute the efficiency associated to the distance matrix).\n",
    "\n",
    "You should get an error like:\n",
    "```\n",
    "[[ 0.58      0.17      0.17    ]\n",
    " [ 0.52      0.145     0.135   ]\n",
    " [ 0.4425    0.15      0.135   ]\n",
    " [ 0.4       0.145     0.12875 ]\n",
    " [ 0.369375  0.1025    0.09375 ]]\n",
    "```\n",
    "where each column represents a different norm.\n",
    "\n",
    "** In the next assignments, optional points are given if you manage to make the algorithm run faster, by pre-computing everything you can precompute in advance **"
   ]
  },
  {
   "cell_type": "code",
   "execution_count": 8,
   "metadata": {},
   "outputs": [
    {
     "name": "stdout",
     "output_type": "stream",
     "text": [
      "Old algorithm\n",
      "Total time =  29.548755168914795\n",
      "New algorithm\n",
      "Total time =  21.31666922569275\n"
     ]
    }
   ],
   "source": [
    "Ns = np.array([100,200,400,800,1600])\n",
    "\n",
    "# We generate a list of matrices with size N. Each new matrix is calculated from the previous entry.\n",
    "# Matrices are suppose to be inserted in ascending order (dim-wise) \n",
    "def dist_list_N(func, N_list, group):\n",
    "    dist_list = [] \n",
    "    dist_list.append(dist(func, N_list[0], group))\n",
    "    for i in range(1, len(N_list)):\n",
    "        dist_list.append(dist(func, N_list[i], group, dist_list[i-1]))\n",
    "    return dist_list\n",
    "\n",
    "\n",
    "# We measure the benefits of using the previous matrix to caculate the next one vs the older approach of \n",
    "# calculating everything from scratch.\n",
    "with Timer() as t:\n",
    "    print(\"Old algorithm\")\n",
    "    # Old way of doing it: I don't use the result of the previous dist matrix\n",
    "    d_infty_errors = [efficiency(N, dist(d_infty, N, x_train), y_train) for N in Ns]\n",
    "    d_1_errors = [efficiency(N, dist(d_1, N, x_train), y_train) for N in Ns]\n",
    "    d_2_errors = [efficiency(N, dist(d_2, N, x_train), y_train) for N in Ns]\n",
    "\n",
    "with Timer() as t:\n",
    "    print(\"New algorithm\")\n",
    "    # New way of doing it: I use the result of the previous dist matrix\n",
    "    d_infty_list = dist_list_N(d_infty, Ns, x_train)\n",
    "    d_infty_errors_bis = [ efficiency(Ns[i], d_infty_list[i], y_train) for i in range(len(Ns))]\n",
    "    d_1_list = dist_list_N(d_1, Ns, x_train)\n",
    "    d_1_errors_bis = [ efficiency(Ns[i], d_1_list[i], y_train) for i in range(len(Ns))]\n",
    "    d_2_list = dist_list_N(d_2, Ns, x_train)\n",
    "    d_2_errors_bis = [ efficiency(Ns[i], d_2_list[i], y_train) for i in range(len(Ns))]\n"
   ]
  },
  {
   "cell_type": "code",
   "execution_count": 9,
   "metadata": {},
   "outputs": [
    {
     "data": {
      "image/png": "[encoded data removed]",
      "text/plain": [
       "<Figure size 432x288 with 1 Axes>"
      ]
     },
     "metadata": {},
     "output_type": "display_data"
    }
   ],
   "source": [
    "# fig = plt.figure()\n",
    "plot(Ns, d_infty_errors,label = 'infty norm')\n",
    "plot(Ns, d_1_errors, label = 'norm 1')\n",
    "plot(Ns, d_2_errors, label = 'norm 2')\n",
    "plt.legend()\n",
    "plt.xlabel('N')\n",
    "plt.ylabel('Error rate')\n",
    "plt.show()"
   ]
  },
  {
   "cell_type": "markdown",
   "metadata": {},
   "source": [
    "# Assignment 6\n",
    "\n",
    "In principle, it should be possible to decrease the error by using a better norm. From the table above, it is clear that the L2 distance works better than the L1 distance, which works better than the Linfty distance.\n",
    "\n",
    "However, *none of these distances exploit the fact that the image is a two-dimensional object*, and that there is information also in the **neighboring** information of the pixels. \n",
    "\n",
    "One way to exploit this, is to interpret the image as a continuous function with values between zero and one, defined on a square domain `\\Omega=[0,27]x[0,27]`.\n",
    "\n",
    "$$ f: \\Omega \\to R $$\n",
    "\n",
    "- Implement a function that computes an approximation of the $H^1$ norm distance on the renormalized images. Given two images $f_1$ and $f_2$\n",
    "    - Compute $$a = \\frac{f_1}{\\int_\\Omega f_1}$$, $$b=\\frac{f_2}{\\int_\\Omega f_2}$$\n",
    "    - Define the $H^1$ distance as\n",
    "    $$\n",
    "    d_{H^1}(f_1,f_2) := \\sqrt{\\int_\\Omega |\\nabla(a-b)|^2+ (a-b)^2}\n",
    "    $$\n",
    "    using the algorithm you prefer (or the library you prefer) to compute the gradients and the integrals. Notice that $\\nabla f = (\\partial f/\\partial x, \\partial f/\\partial y)$ is a vector valued function, and $|\\nabla g|^2 := (\\partial g/\\partial x)^2 + (\\partial g/\\partial y)^2$\n",
    "\n",
    "- Compute the distance matrix and the efficiency for this distance for N=100,200,400,800,1600\n"
   ]
  },
  {
   "cell_type": "markdown",
   "metadata": {},
   "source": [
    "## Assignment 6: solution\n",
    "\n"
   ]
  },
  {
   "cell_type": "code",
   "execution_count": 10,
   "metadata": {},
   "outputs": [],
   "source": [
    "from scipy.integrate import simps\n",
    "\n",
    "def grad_list(image_set):\n",
    "    grad = [np.gradient(im) for im in image_set]\n",
    "    return grad\n",
    "\n",
    "\n",
    "def intgrl_list(image_set):\n",
    "    \n",
    "    img_rows = image_set[0].shape[0]\n",
    "    img_cols = image_set[0].shape[1]\n",
    "    x = np.arange(img_rows)\n",
    "    y = np.arange(img_cols)\n",
    "\n",
    "    intgrl = [ simps(simps(im, y), x) for im in image_set]\n",
    "    return intgrl\n",
    "\n",
    "# having an array of precomputed gradients per image improves perfomance\n",
    "grad_v = grad_list(x_train)\n",
    "# same for the integrals of each image\n",
    "intgrl_v = intgrl_list(x_train)"
   ]
  },
  {
   "cell_type": "code",
   "execution_count": 11,
   "metadata": {},
   "outputs": [
    {
     "name": "stdout",
     "output_type": "stream",
     "text": [
      "0.02889279489490389\n"
     ]
    }
   ],
   "source": [
    "def d_h1(f1,f2, **kwargs):\n",
    "\n",
    "    # check if you input 4 extra arguments:\n",
    "    # i and j index of picture f1 and f2 respectively\n",
    "    if len(kwargs.items()) != 4:\n",
    "         raise TypeError(\"Missing arguments: gradient array and corresponding images indeces\")\n",
    "    \n",
    "    # gradient of image i\n",
    "    id1 = kwargs['id_f1']\n",
    "    # gradient of image j\n",
    "    id2 = kwargs['id_f2']\n",
    "    # integral of image j\n",
    "    intgrl = kwargs['intgrl']\n",
    "    # integral of image j\n",
    "    grad = kwargs['grad']\n",
    "    \n",
    "    x = np.arange(img_rows)\n",
    "    y = np.arange(img_cols)\n",
    "\n",
    "    a = f1/intgrl[id1]\n",
    "    b = f2/intgrl[id2]\n",
    "    \n",
    "#     grad_ab = np.gradient(a-b)\n",
    "    grad_ab = (grad[id1]/intgrl[id1]) - (grad[id2]/intgrl[id2])\n",
    "    grad_abs_sq = np.square(grad_ab[0]) + np.square(grad_ab[1])  \n",
    "    ab_sq = np.square(a-b)\n",
    "    \n",
    "    # we don't return the sqrt because it is monotonic and won't change our results (we save some computation time)\n",
    "    return simps(simps(grad_abs_sq +  ab_sq, y), x)\n",
    "\n",
    "\n",
    "print(d_h1(x_train[10], x_train[11], id_f1 =10, id_f2 = 11, grad = grad_v, intgrl = intgrl_v))"
   ]
  },
  {
   "cell_type": "code",
   "execution_count": 12,
   "metadata": {},
   "outputs": [],
   "source": [
    "Ns = np.array([100,200,400,800,1600])\n",
    "d_h1_errors = [efficiency(N, dist(d_h1, N, x_train, grad = grad_v, intgrl = intgrl_v), y_train) for N in Ns]"
   ]
  },
  {
   "cell_type": "code",
   "execution_count": 13,
   "metadata": {},
   "outputs": [
    {
     "data": {
      "image/png": "[encoded data removed]",
      "text/plain": [
       "<Figure size 432x288 with 1 Axes>"
      ]
     },
     "metadata": {},
     "output_type": "display_data"
    }
   ],
   "source": [
    "plot(Ns, d_infty_errors[:], c='r', label = 'infty norm')\n",
    "plot(Ns, d_1_errors[:], c='g', label = 'norm 1')\n",
    "plot(Ns, d_2_errors[:], c='b', label = 'norm 2')\n",
    "plot(Ns, d_h1_errors, c='orange', label = 'norm H1')\n",
    "plt.xlabel('N')\n",
    "plt.ylabel('Error rate')\n",
    "plt.legend()\n",
    "plt.show()"
   ]
  },
  {
   "cell_type": "markdown",
   "metadata": {},
   "source": [
    "## Assignment 7\n",
    "\n",
    "An even better improvement on the previous distance function is given by the following algorithm\n",
    "\n",
    "- Given two images $f1$ and $f2$:\n",
    "    - Compute $$a = \\frac{f_1}{\\int_\\Omega f_1}$$, $$b=\\frac{f_2}{\\int_\\Omega f_2}$$\n",
    "    - Solve \n",
    "    $$\n",
    "    -\\Delta \\phi = a - b \\qquad \\text{ in } \\Omega\n",
    "    $$\n",
    "    $$\n",
    "    \\phi = 0 \\text{ on } \\partial\\Omega\n",
    "    $$\n",
    "    - Define the *Monge Ampere* distance\n",
    "    $$\n",
    "    d_{MA}(f_1,f_2) = \\int_\\Omega (a+b)|\\nabla \\phi|^2\n",
    "    $$\n",
    "\n",
    "- Compute the distance matrix and the efficiency for this distance for N=100,200,400,800,1600"
   ]
  },
  {
   "cell_type": "markdown",
   "metadata": {},
   "source": [
    "## Assignment 7: solution\n",
    "\n",
    "We used finite difference to discretize the Poisson problem. The resulting matrix is symmetric and positive definite.\n",
    "To solve i,t we first tried iteratives methods (as the matrix is sparse and those usually are faster).\n",
    "In particular we used Gauss-Seidel (we implemented it ourselves (see appendix)) or Conjugate Gradient.\n",
    "Both methods were slower than a simple LU decomposition using `UMFPACK` and `Scipy Sparse`.\n",
    "This is because the size of the matrix is small enough and a direct method is not too expensive. You can get a speed up because the matrix is small enough to fit in the cache of a laptop."
   ]
  },
  {
   "cell_type": "code",
   "execution_count": 14,
   "metadata": {},
   "outputs": [
    {
     "name": "stdout",
     "output_type": "stream",
     "text": [
      "\n"
     ]
    }
   ],
   "source": [
    "# Discretization of Poisson problem\n",
    "rows=28\n",
    "cols=28\n",
    "\n",
    "ones = np.ones(rows*cols)\n",
    "ones_sub = np.ones(cols)\n",
    "ones_sub[-1] = 0\n",
    "diagpm = np.tile(ones_sub, rows)\n",
    "\n",
    "# Matrix of discrete Poisson problem (included de minus sign into the matrix):\n",
    "A = np.diag(4*ones) + np.diag(-1*diagpm[:-1],-1) + np.diag(-1*diagpm[:-1],1) + np.diag(-1*ones[:-cols],-cols) + np.diag(-1*ones[:-cols],cols)\n",
    "print()"
   ]
  },
  {
   "cell_type": "code",
   "execution_count": 15,
   "metadata": {},
   "outputs": [],
   "source": [
    "from scipy import sparse\n",
    "from scikits.umfpack import spsolve, splu\n",
    "import numpy as np\n",
    "\n",
    "# LU decomposition of matrix A\n",
    "sA = sparse.csr_matrix(A)\n",
    "lu = splu(sA)"
   ]
  },
  {
   "cell_type": "markdown",
   "metadata": {},
   "source": [
    "As explained in exercise 6 for the gradient, we calculate the laplacians for all the images only once and store as a list. We then pass the list as an argument to the metric function `d_MA` avoiding repeating calculations when calculating the distance matrix."
   ]
  },
  {
   "cell_type": "code",
   "execution_count": 16,
   "metadata": {},
   "outputs": [],
   "source": [
    "def lapl_list(image_set):\n",
    "    # Using LU decomposition of scipy.sparse.linalg (it used UMFPACK)\n",
    "    # This was the faster one\n",
    "    lapl = [lu.solve(im.reshape(784,1)).reshape(28,28) for im in image_set]\n",
    "    return lapl\n",
    "\n",
    "lapl_v = lapl_list(x_train)\n",
    "# plt.imshow(x_train[0])\n",
    "# plt.imshow(lapl_v[0])\n",
    "# plt.show()"
   ]
  },
  {
   "cell_type": "markdown",
   "metadata": {},
   "source": [
    "We define de MA norm as follows. We used simpson rule to solve the integration."
   ]
  },
  {
   "cell_type": "code",
   "execution_count": 17,
   "metadata": {},
   "outputs": [
    {
     "name": "stdout",
     "output_type": "stream",
     "text": [
      "[0.24, 0.195, 0.145, 0.12625, 0.12375]\n"
     ]
    }
   ],
   "source": [
    "# Define norm d_MA\n",
    "\n",
    "# @time_this\n",
    "def d_MA(f1,f2,**kwargs):\n",
    "    # check if you input 4 extra arguments:\n",
    "    # i and j index of picture f1 and f2 respectively\n",
    "    if len(kwargs.items()) != 4:\n",
    "         raise TypeError(\"Missing arguments: laplacian array and image indices\")\n",
    "    \n",
    "    # gradient of image i\n",
    "    id1 = kwargs['id_f1']\n",
    "    # gradient of image j\n",
    "    id2 = kwargs['id_f2']\n",
    "    # integral of image j\n",
    "    intgrl = kwargs['intgrl']\n",
    "    # integral of image j\n",
    "    lapl = kwargs['lapl']\n",
    "    \n",
    "    x = np.arange(img_rows)\n",
    "    y = np.arange(img_cols)\n",
    "    \n",
    "    a = f1/intgrl[id1]\n",
    "    b = f2/intgrl[id2]\n",
    "    \n",
    "    # Reshapes don't introduce almost any overhead\n",
    "    a_vec = a.reshape(784,1)\n",
    "    b_vec = b.reshape(784,1)\n",
    "    \n",
    "    # Solve the laplace equation\n",
    "    # With CG was slower than LU decomposition\n",
    "    # x_start = np.ones(img_rows*img_cols)\n",
    "    # x_start = x_start.reshape(784,1)\n",
    "    # phi_vec = gauss_num_bis(A, a_vec - b_vec, x_start, 1000)\n",
    "    # phi_vec = sparse.linalg.cg(A, a_vec-b_vec, x_start, 1e-8,1000)[0][:]\n",
    "\n",
    "    # We end up using LU decomposition of scipy.sparse.linalg (it used UMFPACK)\n",
    "    # We calculate it in an auxilary function to reduce operations\n",
    "        \n",
    "    phi = (lapl[id1]/intgrl[id1]) - (lapl[id2]/intgrl[id2])\n",
    "    grad_phi = np.gradient(phi)\n",
    "    grad_abs_sq = np.square(grad_phi[0]) + np.square(grad_phi[1])\n",
    "    \n",
    "    return simps(simps(grad_abs_sq*(a+b), y), x)\n",
    "\n",
    "# N = 3\n",
    "# dist(d_h1, N, x_train)\n",
    "\n",
    "Ns = np.array([100,200,400,800,1600])\n",
    "# Ns = np.array([100])\n",
    "d_MA_errors = [efficiency(N, dist(d_MA, N, x_train, lapl = lapl_v, intgrl = intgrl_v), y_train) for N in Ns]\n",
    "print(d_MA_errors)"
   ]
  },
  {
   "cell_type": "markdown",
   "metadata": {},
   "source": [
    "We computed the efficiency of the method and compared it with the results obtained using the other norms.\n",
    "The graph shows that Monge Ampere distance performs worst than the others."
   ]
  },
  {
   "cell_type": "code",
   "execution_count": 18,
   "metadata": {},
   "outputs": [
    {
     "data": {
      "image/png": "[encoded data removed]",
      "text/plain": [
       "<Figure size 432x288 with 1 Axes>"
      ]
     },
     "metadata": {},
     "output_type": "display_data"
    }
   ],
   "source": [
    "# plot the results of norm MA compared with the previous norms\n",
    "plot(Ns, d_1_errors[:], c='b', label = 'norm 1')\n",
    "plot(Ns, d_2_errors[:], c='g', label = 'norm 2')\n",
    "plot(Ns, d_h1_errors[:], c='r', label = 'norm H1')\n",
    "plot(Ns, d_MA_errors[:], c='black', label = 'norm MA')\n",
    "plt.xlabel('N')\n",
    "plt.ylabel('Error rate')\n",
    "plt.legend()\n",
    "plt.show()"
   ]
  },
  {
   "cell_type": "markdown",
   "metadata": {},
   "source": [
    "To better understand what the Monge Ampere distance is measuring we plotted some intermediate steps in the construction of the norm.\n",
    "From  $-\\Delta \\hat{\\phi} = a$ we can deduce that $\\hat{\\phi}$ is a diffuse representation of the image $a$ (we can think of the number as a source and the laplacian acting as a diffusion term with dirichlet boundary conditions = 0). \n",
    "The following figure shows exactly this for two random numbers:"
   ]
  },
  {
   "cell_type": "code",
   "execution_count": 19,
   "metadata": {},
   "outputs": [
    {
     "data": {
      "image/png": "[encoded data removed]",
      "text/plain": [
       "<Figure size 432x288 with 4 Axes>"
      ]
     },
     "metadata": {},
     "output_type": "display_data"
    }
   ],
   "source": [
    "# Plot some of the results\n",
    "x = np.arange(img_rows)\n",
    "y = np.arange(img_cols)\n",
    "\n",
    "f1 = x_train[0]\n",
    "f2 = x_train[1]\n",
    "intgrl_f1 = simps(simps(f1, y), x)\n",
    "intgrl_f2 = simps(simps(f2, y), x)\n",
    "\n",
    "a = f1/intgrl_f1\n",
    "b = f2/intgrl_f2\n",
    "\n",
    "a_vec = a.reshape(784,1)\n",
    "b_vec = b.reshape(784,1)\n",
    "\n",
    "\n",
    "fig1 = plt.figure()\n",
    "ax1 = fig1.add_subplot(2,2,1) \n",
    "ax2 = fig1.add_subplot(2,2,2)\n",
    "ax3 = fig1.add_subplot(2,2,3)\n",
    "ax4 = fig1.add_subplot(2,2,4)\n",
    "\n",
    "ax1.imshow(a,cmap='gray_r')\n",
    "ax1.set_title(\"$a$\")\n",
    "ax2.imshow(b, cmap='gray_r')\n",
    "ax2.set_title(\"$b$\")\n",
    "ax3.imshow(lu.solve(a_vec).reshape(28,28), cmap='gray_r')\n",
    "ax3.set_title(\"$-\\Delta \\phi = a$\")\n",
    "ax4.imshow(lu.solve(b_vec).reshape(28,28), cmap='gray_r')\n",
    "ax4.set_title(\"$-\\Delta \\phi = b$\")\n",
    "fig1.tight_layout()"
   ]
  },
  {
   "cell_type": "markdown",
   "metadata": {},
   "source": [
    "With this in mind, the original $\\phi$ is just the substraction of two diffuse images.\n",
    "We also plotted the gradient to have a picture of what we are integrating."
   ]
  },
  {
   "cell_type": "code",
   "execution_count": 20,
   "metadata": {},
   "outputs": [
    {
     "data": {
      "image/png": "[encoded data removed]",
      "text/plain": [
       "<Figure size 432x288 with 1 Axes>"
      ]
     },
     "metadata": {},
     "output_type": "display_data"
    },
    {
     "data": {
      "image/png": "[encoded data removed]",
      "text/plain": [
       "<Figure size 432x288 with 1 Axes>"
      ]
     },
     "metadata": {},
     "output_type": "display_data"
    }
   ],
   "source": [
    "fig2 = plt.figure()\n",
    "phi_mat = lu.solve(a_vec - b_vec).reshape(28,28)\n",
    "grad_phi = np.gradient(phi_mat)\n",
    "grad_abs_sq = np.square(grad_phi[0]) + np.square(grad_phi[1])\n",
    "\n",
    "plt.imshow(lu.solve(a_vec - b_vec).reshape(28,28), cmap='gray_r')\n",
    "plt.title(\"$-\\Delta \\phi = a - b$\")\n",
    "\n",
    "fig3 = plt.figure()\n",
    "plt.imshow(grad_abs_sq, cmap='gray_r')\n",
    "plt.title(\"$| \\\\nabla \\phi|^2$\")\n",
    "plt.show()"
   ]
  },
  {
   "cell_type": "markdown",
   "metadata": {},
   "source": [
    "The multiplying term $(a+b)$ in the Monge Ampere distance penalizes image superposition. We replaced this with two different terms:\n",
    "\n",
    "* $(a-b)^2$\n",
    "* $1$\n",
    "\n",
    "and measure the performance of the modified norms."
   ]
  },
  {
   "cell_type": "code",
   "execution_count": 21,
   "metadata": {},
   "outputs": [],
   "source": [
    "# @time_this\n",
    "def d_MA_ab_2(f1,f2, **kwargs):\n",
    "    # check if you input 4 extra arguments:\n",
    "    # i and j index of picture f1 and f2 respectively\n",
    "    if len(kwargs.items()) != 4:\n",
    "         raise TypeError(\"Missing arguments: laplacian array and image indices\")\n",
    "    \n",
    "    # gradient of image i\n",
    "    id1 = kwargs['id_f1']\n",
    "    # gradient of image j\n",
    "    id2 = kwargs['id_f2']\n",
    "    # integral of image j\n",
    "    intgrl = kwargs['intgrl']\n",
    "    # integral of image j\n",
    "    lapl = kwargs['lapl']\n",
    "    \n",
    "    x = np.arange(img_rows)\n",
    "    y = np.arange(img_cols)\n",
    "    \n",
    "    a = f1/intgrl[id1]\n",
    "    b = f2/intgrl[id2]\n",
    "    \n",
    "    # Reshapes don't introduce almost any overhead\n",
    "    a_vec = a.reshape(784,1)\n",
    "    b_vec = b.reshape(784,1)\n",
    "\n",
    "    phi = (lapl[id1]/intgrl[id1]) - (lapl[id2]/intgrl[id2])\n",
    "    grad_phi = np.gradient(phi)\n",
    "    grad_abs_sq = np.square(grad_phi[0]) + np.square(grad_phi[1])\n",
    "    \n",
    "    \n",
    "    return simps(simps(grad_abs_sq*(a-b)*(a-b), y), x)"
   ]
  },
  {
   "cell_type": "code",
   "execution_count": 22,
   "metadata": {},
   "outputs": [],
   "source": [
    "# @time_this\n",
    "def d_MA_1(f1,f2, **kwargs):\n",
    "    # check if you input 4 extra arguments:\n",
    "    # i and j index of picture f1 and f2 respectively\n",
    "    if len(kwargs.items()) != 4:\n",
    "         raise TypeError(\"Missing arguments: laplacian array and image indices\")\n",
    "    \n",
    "    # gradient of image i\n",
    "    id1 = kwargs['id_f1']\n",
    "    # gradient of image j\n",
    "    id2 = kwargs['id_f2']\n",
    "    # integral of image j\n",
    "    intgrl = kwargs['intgrl']\n",
    "    # integral of image j\n",
    "    lapl = kwargs['lapl']\n",
    "    \n",
    "    x = np.arange(img_rows)\n",
    "    y = np.arange(img_cols)\n",
    "    \n",
    "    a = f1/intgrl[id1]\n",
    "    b = f2/intgrl[id2]\n",
    "    \n",
    "    # Reshapes don't introduce almost any overhead\n",
    "    a_vec = a.reshape(784,1)\n",
    "    b_vec = b.reshape(784,1)\n",
    "    \n",
    "    # Laplace solution phi:\n",
    "    phi = (lapl[id1]/intgrl[id1]) - (lapl[id2]/intgrl[id2])\n",
    "    grad_phi = np.gradient(phi)\n",
    "    grad_abs_sq = np.square(grad_phi[0]) + np.square(grad_phi[1])\n",
    "    \n",
    "    \n",
    "    return simps(simps(grad_abs_sq, y), x)"
   ]
  },
  {
   "cell_type": "code",
   "execution_count": 23,
   "metadata": {},
   "outputs": [],
   "source": [
    "# Calculate the errors for the modified d_MA norms\n",
    "Ns = np.array([100,200,400,800,1600])\n",
    "# Ns = np.array([100])\n",
    "d_MA_ab_2_errors = [efficiency(N, dist(d_MA_ab_2, N, x_train, lapl = lapl_v, intgrl = intgrl_v), y_train) for N in Ns]\n",
    "d_MA_1_errors = [efficiency(N, dist(d_MA_1, N, x_train, lapl = lapl_v, intgrl = intgrl_v), y_train) for N in Ns]"
   ]
  },
  {
   "cell_type": "code",
   "execution_count": 24,
   "metadata": {},
   "outputs": [
    {
     "data": {
      "image/png": "[encoded data removed]",
      "text/plain": [
       "<Figure size 432x288 with 1 Axes>"
      ]
     },
     "metadata": {},
     "output_type": "display_data"
    }
   ],
   "source": [
    "# plot the results for the modified d_MA norms\n",
    "plot(Ns, d_MA_errors[:], c='black', label = 'norm MA')\n",
    "plot(Ns, d_MA_ab_2_errors[:], c='b', label = 'mod MA $(a-b)^2$')\n",
    "plot(Ns, d_MA_1_errors[:], c='r', label = 'mod MA $1$')\n",
    "plot(Ns, d_2_errors[:], c='g', label = 'norm 2')\n",
    "plt.legend()\n",
    "plt.xlabel('N')\n",
    "plt.ylabel('Error rate')\n",
    "plt.show()"
   ]
  },
  {
   "cell_type": "markdown",
   "metadata": {},
   "source": [
    "Removing the $(a+b)$ showed the best performance. We obtained a better efficiency than the one obtained with norm 2."
   ]
  },
  {
   "cell_type": "markdown",
   "metadata": {},
   "source": [
    "## Assigment 8 (optional for DSSC, PhD and LM, Mandatory for MHPC)\n",
    "\n",
    "Use the `BallTree` algorithm (https://en.wikipedia.org/wiki/Ball_tree), from the `sklearn` package, and construct a tree data structure **that uses one of the custom distances defined above**.\n",
    "\n",
    "For each N in 3200,6400,12800,25600,51200, and for each distance defined above\n",
    "\n",
    "- Build a tree using the first N entries of the training set `x_train`\n",
    "- Construct a function that tests the efficiency on all the entries of the test set `x_test`:\n",
    "    - for any image in `x_test`, call it `x_test[i]`, query the tree for the nearest neighbor (call it `k`), and assign as predicted digit the digit of the `x_train[k]` image, i.e., `y_train[k]`\n",
    "    - check if `y_train[k]` is equal to the corresponding entry in `y_test[i]`. If not, increment a counter of the error\n",
    "    - return the efficiency, i.e., `error_counter/len(x_test)`\n",
    "- Plot, in a single graph, the error of each distance as a function of `N` (including labels, titles, etc.)\n",
    "\n",
    "- Once you have the tree, experiment with different nearest neighbor algorithms, i.e., instead of taking only one nearest neighbor, take a larger number (a small number of your choice), and instead of returning the single closest digit, return the one with the largest number of occurrences. Plot the same graph you gave before, and see if you gain an improvement. Motivate all choices you have to make to get to the final answer.\n",
    "\n",
    "\n",
    "**IF YOU DON'T HAVE ENOUGH COMPUTATIONAL POWER, RUN THE EXERCISES ONLY UP TO WHAT IS SUSTAINABLE FOR YOUR PC**"
   ]
  },
  {
   "cell_type": "markdown",
   "metadata": {},
   "source": []
  },
  {
   "cell_type": "markdown",
   "metadata": {},
   "source": [
    "For this exercise we used a BallTree algorithm as a structure to "
   ]
  },
  {
   "cell_type": "markdown",
   "metadata": {},
   "source": [
    "## Assignment 8: solution\n",
    "\n",
    "For this exercise we used the ball tree as a data structure to query the nearest neighbours in x_train to an image in x_test.\n",
    "All of the calculations were done using our previously defined metrics, although we noticed that the built in metrics (from the Ball tree class) are much faster, even in the case of the euclidean distance (norm 2).\n",
    "Because of how the interface with the Ball tree works, we needed to use not optimized implementations of the H1 and MA norms."
   ]
  },
  {
   "cell_type": "code",
   "execution_count": 25,
   "metadata": {},
   "outputs": [],
   "source": [
    "def d_h1_no_opt(f1,f2):\n",
    "    \n",
    "    f1 = f1.reshape(28,28)\n",
    "    f2 = f2.reshape(28,28)\n",
    "    x = np.arange(img_rows)\n",
    "    y = np.arange(img_cols)\n",
    "\n",
    "    intgrl_f1 = simps(simps(f1, y), x)\n",
    "    intgrl_f2 = simps(simps(f2, y), x)\n",
    "\n",
    "    a = f1/intgrl_f1\n",
    "    b = f2/intgrl_f2\n",
    "\n",
    "    grad_ab = np.gradient(a-b)\n",
    "    grad_abs_sq = np.square(grad_ab[0]) + np.square(grad_ab[1])  \n",
    "    ab_sq = np.square(a-b)\n",
    "    \n",
    "    # we don't return the sqrt because it is monotonic and won't change our results (we save some computation time)\n",
    "    return simps(simps(grad_abs_sq +  ab_sq, y), x)\n",
    "\n",
    "def d_MA_1_no_opt(f1,f2):\n",
    "\n",
    "    f1 = f1.reshape(28,28)\n",
    "    f2 = f2.reshape(28,28)\n",
    "    \n",
    "    x = np.arange(img_rows)\n",
    "    y = np.arange(img_cols)\n",
    "\n",
    "    intgrl_f1 = simps(simps(f1, y), x)\n",
    "    intgrl_f2 = simps(simps(f2, y), x)\n",
    "\n",
    "    a = f1/intgrl_f1\n",
    "    b = f2/intgrl_f2\n",
    "    \n",
    "    # Reshapes don't introduce almost any overhead\n",
    "    a_vec = a.reshape(784,1)\n",
    "    b_vec = b.reshape(784,1)\n",
    "        \n",
    "    \n",
    "# Solve the laplace equation\n",
    "    phi_vec = lu.solve(a_vec-b_vec)\n",
    "\n",
    "    phi_mat = phi_vec.reshape(28,28)\n",
    "    grad_phi = np.gradient(phi_mat)\n",
    "    grad_abs_sq = np.square(grad_phi[0]) + np.square(grad_phi[1])\n",
    "    \n",
    "    return simps(simps(grad_abs_sq, y), x)"
   ]
  },
  {
   "cell_type": "code",
   "execution_count": 26,
   "metadata": {},
   "outputs": [],
   "source": [
    "import numpy as np\n",
    "from sklearn.neighbors import BallTree"
   ]
  },
  {
   "cell_type": "code",
   "execution_count": 27,
   "metadata": {},
   "outputs": [],
   "source": [
    "def k_nearest_neighbors(kn, N, d_f, group_train, labels_train, group_test, labels_test, **kwargs):\n",
    "    tree = BallTree((group_train[:N]).reshape(N,28*28), leaf_size=2, metric=d_f, **kwargs)\n",
    "    dist, ind = tree.query((group_test[:N]).reshape(N,28*28), k=kn)\n",
    "    return ind, dist\n",
    "\n",
    "def BallTree_efficiency(kn, N, d_f, group_train, labels_train, group_test, labels_test, **kwargs):\n",
    "    ind, _ = k_nearest_neighbors(kn, N, d_f, group_train, labels_train, group_test, labels_test, **kwargs)\n",
    "    k_nearest_labels = np.array([ [labels_train[ind[i,j]] for j in range(kn)] for i in arange(N) ])\n",
    "    errors = 0\n",
    "    for ima in range(N):\n",
    "        counts = np.bincount(k_nearest_labels[ima,:])\n",
    "#         if not k_nearest_labels[ima,0] == np.argmax(counts): errors += 1\n",
    "        if not labels_test[ima] == np.argmax(counts): errors += 1\n",
    "    return [kn, N, errors/N]"
   ]
  },
  {
   "cell_type": "code",
   "execution_count": 28,
   "metadata": {},
   "outputs": [],
   "source": [
    "kns = [1,4,8]\n",
    "Ns = np.array([100,200,400,800])\n",
    "d_infty_errors = np.array([BallTree_efficiency(kn, N, d_infty, x_train, y_train, x_test, y_test) for kn in kns for N in Ns])\n",
    "d_1_errors = np.array([BallTree_efficiency(kn, N, d_1, x_train, y_train, x_test, y_test) for kn in kns for N in Ns])\n",
    "d_2_errors = np.array([BallTree_efficiency(kn, N, d_2, x_train, y_train, x_test, y_test) for kn in kns for N in Ns])\n",
    "d_h1_errors = np.array([BallTree_efficiency(kn, N, d_h1_no_opt, x_train, y_train, x_test, y_test) for kn in kns for N in Ns])\n",
    "d_MA_1_errors = np.array([BallTree_efficiency(kn, N, d_MA_1_no_opt, x_train, y_train, x_test, y_test) for kn in kns for N in Ns])"
   ]
  },
  {
   "cell_type": "markdown",
   "metadata": {},
   "source": [
    "The following image shows the results obtained for knn = [1,4,8]. We observed that out of the three values, k=4 gives the best performance for the algorithm. The error rate is a little bit higher than in the previous exercises because we are measuring the performance using the test data."
   ]
  },
  {
   "cell_type": "code",
   "execution_count": 39,
   "metadata": {},
   "outputs": [
    {
     "data": {
      "image/png": "[encoded data removed]",
      "text/plain": [
       "<Figure size 432x288 with 1 Axes>"
      ]
     },
     "metadata": {},
     "output_type": "display_data"
    },
    {
     "data": {
      "image/png": "[encoded data removed]",
      "text/plain": [
       "<Figure size 432x288 with 1 Axes>"
      ]
     },
     "metadata": {},
     "output_type": "display_data"
    },
    {
     "data": {
      "image/png": "[encoded data removed]",
      "text/plain": [
       "<Figure size 432x288 with 1 Axes>"
      ]
     },
     "metadata": {},
     "output_type": "display_data"
    }
   ],
   "source": [
    "# We plot the results for knn = [1,4,8] \n",
    "\n",
    "for k in range(3):\n",
    "    plot(Ns, d_infty_errors[len(Ns)*k:len(Ns)*(k+1),2], c='black', label = 'norm $\\infty$')\n",
    "    plot(Ns, d_1_errors[len(Ns)*k:len(Ns)*(k+1),2], c='red', label = 'norm 1')\n",
    "    plot(Ns, d_2_errors[len(Ns)*k:len(Ns)*(k+1),2], c='orange', label = 'norm 2')\n",
    "    plot(Ns, d_h1_errors[len(Ns)*k:len(Ns)*(k+1),2], c='green', label = 'norm $h_1$')\n",
    "    plot(Ns, d_MA_1_errors[len(Ns)*k:len(Ns)*(k+1),2], c='blue', label = 'norm $MA_1$')\n",
    "    plt.legend()\n",
    "    plt.title(str(kns[k]) + '-nearest neighboors')\n",
    "    plt.xlabel('N')\n",
    "    plt.ylabel('Error rate')\n",
    "    plt.show()\n",
    "\n",
    "\n"
   ]
  },
  {
   "cell_type": "markdown",
   "metadata": {},
   "source": [
    "As a complement for this exercise, we visualized what the knn algorithm is doing. The red point in the center of the following figure represents the image which we want to classify and its true label. The blue points are the nearest neighbors with their respective labels. The green circle represents the area which is considered to count the nearest neighbors.\n",
    "\n",
    "For low k, the picutre is classified correctly as 5, as we increase the number of neighbors taken into account the classification shows wrong results. "
   ]
  },
  {
   "cell_type": "code",
   "execution_count": 32,
   "metadata": {},
   "outputs": [],
   "source": [
    "kn = 20\n",
    "N = 1600\n",
    "neighbors, distances = k_nearest_neighbors(kn, N, d_2, x_train, y_train, x_train, y_train)\n",
    "# neighbors, distances = k_nearest_neighbors(kn, N, d_2, x_train, y_train)"
   ]
  },
  {
   "cell_type": "code",
   "execution_count": 33,
   "metadata": {},
   "outputs": [
    {
     "data": {
      "image/png": "[encoded data removed]",
      "text/plain": [
       "<Figure size 432x288 with 1 Axes>"
      ]
     },
     "metadata": {},
     "output_type": "display_data"
    }
   ],
   "source": [
    "pi = np.pi\n",
    "sin = np.sin\n",
    "cos = np.cos\n",
    "rd = np.random.uniform(0,2*pi,kn)\n",
    "Look = 0\n",
    "\n",
    "points = np.array([[num*num*cos(rd[i]), num*num*sin(rd[i])] for i, num in enumerate(distances[Look,:])])\n",
    "fig = plt.figure()\n",
    "ax = fig.add_subplot(111, aspect='equal')\n",
    "# ax.set_ylim(-12,12)\n",
    "# ax.set_xlim(-12,12)\n",
    "ax.scatter(points[:,0], points[:,1]) \n",
    "ax.scatter(0, 0, color='r')\n",
    "circle=plt.Circle((0,0),distances[Look,3]*distances[Look,3], color='g', fill=False)\n",
    "ax.add_artist(circle)\n",
    "for i in range(kn):\n",
    "    ax.annotate(y_train[neighbors[Look,i]], (points[i,0], points[i,1]), fontsize=14)"
   ]
  },
  {
   "cell_type": "markdown",
   "metadata": {},
   "source": [
    "## Appendix: Extra calculations that we didn't use in the project"
   ]
  },
  {
   "cell_type": "markdown",
   "metadata": {},
   "source": [
    "What follows are different implementations that we tried for solving the linear system of exercise 7. \n",
    "They are all iterative methods which resulted much slower than the LU decomposition. For bigger matrix sizes, it would be better to use iterative methods to solve the sparse linear system."
   ]
  },
  {
   "cell_type": "code",
   "execution_count": null,
   "metadata": {},
   "outputs": [],
   "source": [
    "# Own implementation of Gauss-Seidel\n",
    "\n",
    "# import numpy as np\n",
    "# from scipy.linalg import solve\n",
    "# from scipy import sparse\n",
    "\n",
    "# @time_this\n",
    "# def gauss_mat(A, b, x ,n):\n",
    "#     L = np.tril(A)\n",
    "#     U = A - L\n",
    "#     for i in range(n):\n",
    "#         x = np.dot(np.linalg.inv(L), b - np.dot(U, x))\n",
    "#     return x\n",
    "\n",
    "# # Gauss-Seidel tailored specifically for poisson problem.\n",
    "# @time_this\n",
    "# def gauss_num(A, b, x, iteration):\n",
    "    \n",
    "#     # x is of dimension (28*28)\n",
    "#     mat_dim = len(x)\n",
    "#     col_dim = int(sqrt(len(x)))\n",
    "\n",
    "    \n",
    "#     for it in range(iteration):    \n",
    "#         # First element (top left corner)\n",
    "#         i=0\n",
    "#         x[i] = 0.25*( b[i] - A[i][i+1]*x[i+1] - A[i][i+col_dim]*x[i+col_dim] )\n",
    "        \n",
    "#         # Boundary condition top\n",
    "#         for i in range(1, col_dim):\n",
    "#             x[i] = 0.25*( b[i] - A[i][i+1]*x[i+1] - A[i][i-1]*x[i-1] - A[i][i+col_dim]*x[i+col_dim] )\n",
    "        \n",
    "#         for i in range(col_dim, mat_dim-col_dim):\n",
    "#             x[i] = 0.25*( b[i] - A[i][i+1]*x[i+1] - A[i][i-1]*x[i-1] - A[i][i-col_dim]*x[i-col_dim] - A[i][i+col_dim]*x[i+col_dim] )\n",
    "    \n",
    "#         # Boundary condition bot\n",
    "#         for i in range(mat_dim-col_dim, mat_dim-1):\n",
    "#             x[i] = 0.25*( b[i] - A[i][i+1]*x[i+1] - A[i][i-1]*x[i-1] - A[i][i-col_dim]*x[i-col_dim] )\n",
    "\n",
    "#         # Last element (bottom right corner)\n",
    "#         i=i+1\n",
    "#         x[i] = 0.25*( b[i] - A[i][i-1]*x[i-1] - A[i][i-col_dim]*x[i-col_dim] )\n",
    "    \n",
    "#     return x\n",
    "\n",
    "# # Gauss-Seidel without using matrix A (We kept it as an argument to make the functions compatible)\n",
    "# @time_this\n",
    "# def gauss_num_bis(A, b, x, max_iter):\n",
    "#     # Parameters:\n",
    "#     eps=1e-8\n",
    "    \n",
    "#     # x is of dimension (28*28)\n",
    "#     mat_dim = len(x)\n",
    "#     col_dim = int(sqrt(len(x)))\n",
    "#     row_dim = col_dim\n",
    "# #     x_prev = np.empty((mat_dim,1))\n",
    "#     x_prev = np.copy(x)\n",
    "    \n",
    "#     for it in range(max_iter):    \n",
    "#         # First element (top left corner)\n",
    "#         i=0\n",
    "#         x[i] = 0.25*( b[i] - (-1.)*x[i+1] - (-1.)*x[i+col_dim] )\n",
    "        \n",
    "#         # Boundary condition top\n",
    "#         for i in range(1, col_dim):\n",
    "#             x[i] = 0.25*( b[i] - (-1.)*x[i+1] - (-1.)*x[i-1] - (-1.)*x[i+col_dim] )\n",
    "        \n",
    "#         for i in range(1, row_dim-1):\n",
    "#             x[i*col_dim ] = 0.25*( b[i*col_dim ] - (-1.)*x[i*col_dim +1] - (-1.)*x[i*col_dim -col_dim] - (-1.)*x[i*col_dim +col_dim] )\n",
    "#             for j in range(1, col_dim-1):\n",
    "#                 x[i*col_dim + j] = 0.25*( b[i*col_dim + j] - (-1.)*x[i*col_dim + j+1] - (-1.)*x[i*col_dim + j-1] - (-1.)*x[i*col_dim + j-col_dim] - (-1.)*x[i*col_dim + j+col_dim] )\n",
    "\n",
    "#             x[i*col_dim + col_dim-1 ] = 0.25*( b[i*col_dim + col_dim-1 ] - (-1.)*x[i*col_dim + col_dim-1 -1] - (-1.)*x[i*col_dim + col_dim-1 -col_dim] - (-1.)*x[i*col_dim + col_dim-1 +col_dim] )\n",
    "    \n",
    "#         # Boundary condition bot\n",
    "#         for i in range(mat_dim-col_dim, mat_dim-1):\n",
    "#             x[i] = 0.25*( b[i] - (-1.)*x[i+1] - (-1.)*x[i-1] - (-1.)*x[i-col_dim] )\n",
    "\n",
    "#         # Last element (bottom right corner)\n",
    "#         i=i+1\n",
    "#         x[i] = 0.25*( b[i] - (-1.)*x[i-1] - (-1.)*x[i-col_dim] )\n",
    "        \n",
    "\n",
    "#         if all( [abs(x[0]-x_prev[0]) < eps for j in range(mat_dim)]):\n",
    "#             print('iteration: ', it, eps)\n",
    "#             return x     \n",
    "#         x_prev = np.copy(x)\n",
    "        \n",
    "        \n",
    "#     raise ValueError('Solution does not converge')\n",
    "\n",
    "    \n",
    "# f1 = x_train[10]\n",
    "# f2 = x_train[11]\n",
    "# x = np.arange(img_rows)\n",
    "# y = np.arange(img_cols)\n",
    "\n",
    "# intgrl_f1 = simps(simps(f1, y), x)\n",
    "# intgrl_f2 = simps(simps(f2, y), x)\n",
    "\n",
    "# a = f1/intgrl_f1\n",
    "# b = f2/intgrl_f2\n",
    "\n",
    "# a_vec = a.reshape(784,1)\n",
    "# b_vec = b.reshape(784,1)\n",
    "\n",
    "# x_start = np.ones(img_rows*img_cols)\n",
    "# x_start = x_start.reshape(784,1)\n",
    "\n",
    "# num_bis = gauss_num_bis(A, a_vec - b_vec, x_start, 1000)\n",
    "\n",
    "# x_start = np.ones(img_rows*img_cols)\n",
    "# x_start = x_start.reshape(784,1)\n",
    "# num = gauss_num(A, a_vec - b_vec, x_start, 1000)\n",
    "\n",
    "# x_start = np.ones(img_rows*img_cols)\n",
    "# x_start = x_start.reshape(784,1)\n",
    "\n",
    "# cg_num = time_this(sparse.linalg.cg)\n",
    "# cg_res = cg_num(A, a_vec-b_vec, x_start, 1e-8,1000)\n",
    "\n",
    "\n",
    "\n",
    "# # x_start = np.ones(img_rows*img_cols)\n",
    "# # x_start = x_start.reshape(784,1)\n",
    "# # mat = gauss_mat(A, a_vec - b_vec , x_start, 1200)\n",
    "\n",
    "\n",
    "\n",
    "# # print(\"mat gauss: \", mat[:10])\n",
    "# print(\"num gauss: \\n\", num[:10])\n",
    "# print(\"num_bis gauss: \\n\", num_bis[:10])\n",
    "# print(\"cg num: \\n\", cg_res[0][:10])\n",
    "# # print(num == mat)\n",
    "\n"
   ]
  }
 ],
 "metadata": {
  "kernelspec": {
   "display_name": "Python 3",
   "language": "python",
   "name": "python3"
  },
  "language_info": {
   "codemirror_mode": {
    "name": "ipython",
    "version": 3
   },
   "file_extension": ".py",
   "mimetype": "text/x-python",
   "name": "python",
   "nbconvert_exporter": "python",
   "pygments_lexer": "ipython3",
   "version": "3.6.7"
  }
 },
 "nbformat": 4,
 "nbformat_minor": 2
}
